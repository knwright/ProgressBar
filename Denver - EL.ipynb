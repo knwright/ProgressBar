{
 "cells": [
  {
   "cell_type": "code",
   "execution_count": 1,
   "metadata": {},
   "outputs": [],
   "source": [
    "# Import dependencies\n",
    "import numpy as np\n",
    "import pandas as pd\n",
    "from scipy import stats\n",
    "from matplotlib import pyplot as plt\n",
    "import datetime as dt"
   ]
  },
  {
   "cell_type": "code",
   "execution_count": 2,
   "metadata": {},
   "outputs": [],
   "source": [
    "# Use Pandas to read the Denver crime data\n",
    "den_crime_data = pd.read_csv(\"den_crime_data_2015-2017.csv\")\n",
    "moon_data = pd.read_csv(\"moon_phases_2015 through 2017.csv\")\n"
   ]
  },
  {
   "cell_type": "code",
   "execution_count": 3,
   "metadata": {},
   "outputs": [
    {
     "data": {
      "text/html": [
       "<div>\n",
       "<style scoped>\n",
       "    .dataframe tbody tr th:only-of-type {\n",
       "        vertical-align: middle;\n",
       "    }\n",
       "\n",
       "    .dataframe tbody tr th {\n",
       "        vertical-align: top;\n",
       "    }\n",
       "\n",
       "    .dataframe thead th {\n",
       "        text-align: right;\n",
       "    }\n",
       "</style>\n",
       "<table border=\"1\" class=\"dataframe\">\n",
       "  <thead>\n",
       "    <tr style=\"text-align: right;\">\n",
       "      <th></th>\n",
       "      <th>Date</th>\n",
       "      <th>OFFENSE_CATEGORY_ID</th>\n",
       "      <th>IS_CRIME</th>\n",
       "    </tr>\n",
       "  </thead>\n",
       "  <tbody>\n",
       "    <tr>\n",
       "      <th>0</th>\n",
       "      <td>6/15/2016</td>\n",
       "      <td>all-other-crimes</td>\n",
       "      <td>1</td>\n",
       "    </tr>\n",
       "    <tr>\n",
       "      <th>1</th>\n",
       "      <td>10/11/2017</td>\n",
       "      <td>larceny</td>\n",
       "      <td>1</td>\n",
       "    </tr>\n",
       "    <tr>\n",
       "      <th>2</th>\n",
       "      <td>3/4/2016</td>\n",
       "      <td>theft-from-motor-vehicle</td>\n",
       "      <td>1</td>\n",
       "    </tr>\n",
       "    <tr>\n",
       "      <th>3</th>\n",
       "      <td>6/22/2017</td>\n",
       "      <td>larceny</td>\n",
       "      <td>1</td>\n",
       "    </tr>\n",
       "    <tr>\n",
       "      <th>4</th>\n",
       "      <td>6/1/2017</td>\n",
       "      <td>theft-from-motor-vehicle</td>\n",
       "      <td>1</td>\n",
       "    </tr>\n",
       "  </tbody>\n",
       "</table>\n",
       "</div>"
      ],
      "text/plain": [
       "         Date       OFFENSE_CATEGORY_ID  IS_CRIME\n",
       "0   6/15/2016          all-other-crimes         1\n",
       "1  10/11/2017                   larceny         1\n",
       "2    3/4/2016  theft-from-motor-vehicle         1\n",
       "3   6/22/2017                   larceny         1\n",
       "4    6/1/2017  theft-from-motor-vehicle         1"
      ]
     },
     "execution_count": 3,
     "metadata": {},
     "output_type": "execute_result"
    }
   ],
   "source": [
    "den_crime_data.head()"
   ]
  },
  {
   "cell_type": "code",
   "execution_count": 4,
   "metadata": {},
   "outputs": [
    {
     "data": {
      "text/html": [
       "<div>\n",
       "<style scoped>\n",
       "    .dataframe tbody tr th:only-of-type {\n",
       "        vertical-align: middle;\n",
       "    }\n",
       "\n",
       "    .dataframe tbody tr th {\n",
       "        vertical-align: top;\n",
       "    }\n",
       "\n",
       "    .dataframe thead th {\n",
       "        text-align: right;\n",
       "    }\n",
       "</style>\n",
       "<table border=\"1\" class=\"dataframe\">\n",
       "  <thead>\n",
       "    <tr style=\"text-align: right;\">\n",
       "      <th></th>\n",
       "      <th>Date</th>\n",
       "      <th>Year</th>\n",
       "      <th>Day</th>\n",
       "      <th>Month</th>\n",
       "      <th>Percent Illumination</th>\n",
       "      <th>Moon Phase</th>\n",
       "    </tr>\n",
       "  </thead>\n",
       "  <tbody>\n",
       "    <tr>\n",
       "      <th>0</th>\n",
       "      <td>1/1/2015</td>\n",
       "      <td>2015</td>\n",
       "      <td>1</td>\n",
       "      <td>1</td>\n",
       "      <td>84.00%</td>\n",
       "      <td>Waxing gibbous</td>\n",
       "    </tr>\n",
       "    <tr>\n",
       "      <th>1</th>\n",
       "      <td>1/2/2015</td>\n",
       "      <td>2015</td>\n",
       "      <td>2</td>\n",
       "      <td>1</td>\n",
       "      <td>91.00%</td>\n",
       "      <td>Waxing gibbous</td>\n",
       "    </tr>\n",
       "    <tr>\n",
       "      <th>2</th>\n",
       "      <td>1/3/2015</td>\n",
       "      <td>2015</td>\n",
       "      <td>3</td>\n",
       "      <td>1</td>\n",
       "      <td>96.00%</td>\n",
       "      <td>Waxing gibbous</td>\n",
       "    </tr>\n",
       "    <tr>\n",
       "      <th>3</th>\n",
       "      <td>1/4/2015</td>\n",
       "      <td>2015</td>\n",
       "      <td>4</td>\n",
       "      <td>1</td>\n",
       "      <td>99.00%</td>\n",
       "      <td>Waxing gibbous</td>\n",
       "    </tr>\n",
       "    <tr>\n",
       "      <th>4</th>\n",
       "      <td>1/5/2015</td>\n",
       "      <td>2015</td>\n",
       "      <td>5</td>\n",
       "      <td>1</td>\n",
       "      <td>100.00%</td>\n",
       "      <td>Full Moon</td>\n",
       "    </tr>\n",
       "  </tbody>\n",
       "</table>\n",
       "</div>"
      ],
      "text/plain": [
       "       Date  Year  Day  Month Percent Illumination       Moon Phase\n",
       "0  1/1/2015  2015    1      1               84.00%  Waxing gibbous \n",
       "1  1/2/2015  2015    2      1               91.00%  Waxing gibbous \n",
       "2  1/3/2015  2015    3      1               96.00%  Waxing gibbous \n",
       "3  1/4/2015  2015    4      1               99.00%  Waxing gibbous \n",
       "4  1/5/2015  2015    5      1              100.00%        Full Moon"
      ]
     },
     "execution_count": 4,
     "metadata": {},
     "output_type": "execute_result"
    }
   ],
   "source": [
    "# Rename Full Date column\n",
    "moon_data.rename(columns = {'Full Date':'Date'}, inplace = True)\n",
    "moon_data.head()"
   ]
  },
  {
   "cell_type": "code",
   "execution_count": 5,
   "metadata": {},
   "outputs": [
    {
     "data": {
      "text/html": [
       "<div>\n",
       "<style scoped>\n",
       "    .dataframe tbody tr th:only-of-type {\n",
       "        vertical-align: middle;\n",
       "    }\n",
       "\n",
       "    .dataframe tbody tr th {\n",
       "        vertical-align: top;\n",
       "    }\n",
       "\n",
       "    .dataframe thead th {\n",
       "        text-align: right;\n",
       "    }\n",
       "</style>\n",
       "<table border=\"1\" class=\"dataframe\">\n",
       "  <thead>\n",
       "    <tr style=\"text-align: right;\">\n",
       "      <th></th>\n",
       "      <th>Date</th>\n",
       "      <th>OFFENSE_CATEGORY_ID</th>\n",
       "      <th>IS_CRIME</th>\n",
       "      <th>Year</th>\n",
       "      <th>Day</th>\n",
       "      <th>Month</th>\n",
       "      <th>Percent Illumination</th>\n",
       "      <th>Moon Phase</th>\n",
       "    </tr>\n",
       "  </thead>\n",
       "  <tbody>\n",
       "    <tr>\n",
       "      <th>0</th>\n",
       "      <td>6/15/2016</td>\n",
       "      <td>all-other-crimes</td>\n",
       "      <td>1</td>\n",
       "      <td>2016</td>\n",
       "      <td>15</td>\n",
       "      <td>6</td>\n",
       "      <td>76.00%</td>\n",
       "      <td>Waxing gibbous</td>\n",
       "    </tr>\n",
       "    <tr>\n",
       "      <th>1</th>\n",
       "      <td>10/11/2017</td>\n",
       "      <td>larceny</td>\n",
       "      <td>1</td>\n",
       "      <td>2017</td>\n",
       "      <td>11</td>\n",
       "      <td>10</td>\n",
       "      <td>65.00%</td>\n",
       "      <td>Waning gibbous</td>\n",
       "    </tr>\n",
       "    <tr>\n",
       "      <th>2</th>\n",
       "      <td>3/4/2016</td>\n",
       "      <td>theft-from-motor-vehicle</td>\n",
       "      <td>1</td>\n",
       "      <td>2016</td>\n",
       "      <td>4</td>\n",
       "      <td>3</td>\n",
       "      <td>28.00%</td>\n",
       "      <td>Waning crescent</td>\n",
       "    </tr>\n",
       "    <tr>\n",
       "      <th>3</th>\n",
       "      <td>6/22/2017</td>\n",
       "      <td>larceny</td>\n",
       "      <td>1</td>\n",
       "      <td>2017</td>\n",
       "      <td>22</td>\n",
       "      <td>6</td>\n",
       "      <td>6.00%</td>\n",
       "      <td>Waning crescent</td>\n",
       "    </tr>\n",
       "    <tr>\n",
       "      <th>4</th>\n",
       "      <td>6/1/2017</td>\n",
       "      <td>theft-from-motor-vehicle</td>\n",
       "      <td>1</td>\n",
       "      <td>2017</td>\n",
       "      <td>1</td>\n",
       "      <td>6</td>\n",
       "      <td>47.00%</td>\n",
       "      <td>First Quarter</td>\n",
       "    </tr>\n",
       "  </tbody>\n",
       "</table>\n",
       "</div>"
      ],
      "text/plain": [
       "         Date       OFFENSE_CATEGORY_ID  IS_CRIME  Year  Day  Month  \\\n",
       "0   6/15/2016          all-other-crimes         1  2016   15      6   \n",
       "1  10/11/2017                   larceny         1  2017   11     10   \n",
       "2    3/4/2016  theft-from-motor-vehicle         1  2016    4      3   \n",
       "3   6/22/2017                   larceny         1  2017   22      6   \n",
       "4    6/1/2017  theft-from-motor-vehicle         1  2017    1      6   \n",
       "\n",
       "  Percent Illumination        Moon Phase  \n",
       "0               76.00%   Waxing gibbous   \n",
       "1               65.00%   Waning gibbous   \n",
       "2               28.00%  Waning crescent   \n",
       "3                6.00%  Waning crescent   \n",
       "4               47.00%     First Quarter  "
      ]
     },
     "execution_count": 5,
     "metadata": {},
     "output_type": "execute_result"
    }
   ],
   "source": [
    "# Combine the data into a single dataset\n",
    "den_data_comp = pd.merge(den_crime_data, moon_data, how=\"left\", on = 'Date')\n",
    "den_data_comp.head()"
   ]
  },
  {
   "cell_type": "code",
   "execution_count": 6,
   "metadata": {},
   "outputs": [],
   "source": [
    "# Change date formatting\n",
    "den_data_comp['Date'] = den_data_comp['Date'].apply(lambda x : dt.datetime.strptime(x, '%m/%d/%Y'))"
   ]
  },
  {
   "cell_type": "code",
   "execution_count": 7,
   "metadata": {},
   "outputs": [
    {
     "data": {
      "text/html": [
       "<div>\n",
       "<style scoped>\n",
       "    .dataframe tbody tr th:only-of-type {\n",
       "        vertical-align: middle;\n",
       "    }\n",
       "\n",
       "    .dataframe tbody tr th {\n",
       "        vertical-align: top;\n",
       "    }\n",
       "\n",
       "    .dataframe thead th {\n",
       "        text-align: right;\n",
       "    }\n",
       "</style>\n",
       "<table border=\"1\" class=\"dataframe\">\n",
       "  <thead>\n",
       "    <tr style=\"text-align: right;\">\n",
       "      <th></th>\n",
       "      <th>Date</th>\n",
       "      <th>Percent Illumination</th>\n",
       "      <th>Total Crimes</th>\n",
       "    </tr>\n",
       "  </thead>\n",
       "  <tbody>\n",
       "    <tr>\n",
       "      <th>0</th>\n",
       "      <td>2015-01-01</td>\n",
       "      <td>84.00%</td>\n",
       "      <td>245</td>\n",
       "    </tr>\n",
       "    <tr>\n",
       "      <th>1</th>\n",
       "      <td>2015-01-02</td>\n",
       "      <td>91.00%</td>\n",
       "      <td>149</td>\n",
       "    </tr>\n",
       "    <tr>\n",
       "      <th>2</th>\n",
       "      <td>2015-01-03</td>\n",
       "      <td>96.00%</td>\n",
       "      <td>131</td>\n",
       "    </tr>\n",
       "    <tr>\n",
       "      <th>3</th>\n",
       "      <td>2015-01-04</td>\n",
       "      <td>99.00%</td>\n",
       "      <td>113</td>\n",
       "    </tr>\n",
       "    <tr>\n",
       "      <th>4</th>\n",
       "      <td>2015-01-05</td>\n",
       "      <td>100.00%</td>\n",
       "      <td>167</td>\n",
       "    </tr>\n",
       "  </tbody>\n",
       "</table>\n",
       "</div>"
      ],
      "text/plain": [
       "        Date Percent Illumination  Total Crimes\n",
       "0 2015-01-01               84.00%           245\n",
       "1 2015-01-02               91.00%           149\n",
       "2 2015-01-03               96.00%           131\n",
       "3 2015-01-04               99.00%           113\n",
       "4 2015-01-05              100.00%           167"
      ]
     },
     "execution_count": 7,
     "metadata": {},
     "output_type": "execute_result"
    }
   ],
   "source": [
    "# Create an overview table that summarizes necessary data: \n",
    "\n",
    "#Total crimes by date\n",
    "den_clean = den_data_comp\n",
    "den_crime_total = pd.DataFrame(den_clean.Date.value_counts())\n",
    "\n",
    "# Rename Date column to Total Crimes\n",
    "den_crime_total_rename = den_crime_total.rename(columns={'Date': 'Total Crimes'})\n",
    "\n",
    "# Add index title for Total Crime\n",
    "den_crime_total_rename.index.name = 'Date'\n",
    "\n",
    "# Merge crime counts with previous total data frame\n",
    "den_total_crime = den_clean.merge(den_crime_total_rename, how='outer', on='Date').drop(['OFFENSE_CATEGORY_ID', 'IS_CRIME', 'Year', \"Day\", \"Month\", \"Moon Phase\"], axis=1) \n",
    "den_total_crime\n",
    "\n",
    "# Remove duplicate dates/condense\n",
    "den_totcrime_rm = den_total_crime.drop_duplicates()\n",
    "\n",
    "# Sort data frame by date\n",
    "den_sum_bydate = den_totcrime_rm.sort_values(by='Date')\n",
    "\n",
    "# Reset index values\n",
    "den_summary = den_sum_bydate.reset_index(drop=True)\n",
    "\n",
    "# Print the data\n",
    "den_summary.head()"
   ]
  },
  {
   "cell_type": "code",
   "execution_count": 8,
   "metadata": {},
   "outputs": [],
   "source": [
    "# Changing the Percent Illumination column data type to a float for binning below\n",
    "den_summary['Percent Illumination'] = den_summary['Percent Illumination'].str.rstrip('%').astype('float')"
   ]
  },
  {
   "cell_type": "code",
   "execution_count": 9,
   "metadata": {},
   "outputs": [
    {
     "data": {
      "text/html": [
       "<div>\n",
       "<style scoped>\n",
       "    .dataframe tbody tr th:only-of-type {\n",
       "        vertical-align: middle;\n",
       "    }\n",
       "\n",
       "    .dataframe tbody tr th {\n",
       "        vertical-align: top;\n",
       "    }\n",
       "\n",
       "    .dataframe thead th {\n",
       "        text-align: right;\n",
       "    }\n",
       "</style>\n",
       "<table border=\"1\" class=\"dataframe\">\n",
       "  <thead>\n",
       "    <tr style=\"text-align: right;\">\n",
       "      <th></th>\n",
       "      <th>Average Crime</th>\n",
       "    </tr>\n",
       "    <tr>\n",
       "      <th>% Illumination</th>\n",
       "      <th></th>\n",
       "    </tr>\n",
       "  </thead>\n",
       "  <tbody>\n",
       "    <tr>\n",
       "      <th>0-3%</th>\n",
       "      <td>190.625000</td>\n",
       "    </tr>\n",
       "    <tr>\n",
       "      <th>4-10%</th>\n",
       "      <td>188.978723</td>\n",
       "    </tr>\n",
       "    <tr>\n",
       "      <th>11-21%</th>\n",
       "      <td>185.000000</td>\n",
       "    </tr>\n",
       "    <tr>\n",
       "      <th>22-35%</th>\n",
       "      <td>179.834862</td>\n",
       "    </tr>\n",
       "    <tr>\n",
       "      <th>36-50%</th>\n",
       "      <td>184.333333</td>\n",
       "    </tr>\n",
       "    <tr>\n",
       "      <th>51-65%</th>\n",
       "      <td>184.018692</td>\n",
       "    </tr>\n",
       "    <tr>\n",
       "      <th>66-78%</th>\n",
       "      <td>183.867925</td>\n",
       "    </tr>\n",
       "    <tr>\n",
       "      <th>79-89%</th>\n",
       "      <td>185.513514</td>\n",
       "    </tr>\n",
       "    <tr>\n",
       "      <th>90-96%</th>\n",
       "      <td>185.212963</td>\n",
       "    </tr>\n",
       "    <tr>\n",
       "      <th>97-100%</th>\n",
       "      <td>180.330275</td>\n",
       "    </tr>\n",
       "  </tbody>\n",
       "</table>\n",
       "</div>"
      ],
      "text/plain": [
       "                Average Crime\n",
       "% Illumination               \n",
       "0-3%               190.625000\n",
       "4-10%              188.978723\n",
       "11-21%             185.000000\n",
       "22-35%             179.834862\n",
       "36-50%             184.333333\n",
       "51-65%             184.018692\n",
       "66-78%             183.867925\n",
       "79-89%             185.513514\n",
       "90-96%             185.212963\n",
       "97-100%            180.330275"
      ]
     },
     "execution_count": 9,
     "metadata": {},
     "output_type": "execute_result"
    }
   ],
   "source": [
    "# Create percent illumination bins\n",
    "bins = [0, 3, 10, 21.5, 35.5, 51, 66, 79, 90, 97, 100]\n",
    "group_name = ['0-3%', '4-10%', '11-21%', \n",
    "              '22-35%', '36-50%', '51-65%', \n",
    "              '66-78%', '79-89%', '90-96%', '97-100%']\n",
    "den_summary['% Illumination'] = pd.cut(den_summary['Percent Illumination'], \n",
    "                                      bins, \n",
    "                                      labels = group_name, \n",
    "                                      include_lowest=True)\n",
    "\n",
    "# Group the merged data by school spending\n",
    "by_illumination = den_summary.groupby('% Illumination')\n",
    "\n",
    "# Calculate average crime\n",
    "avg_crime = by_illumination['Total Crimes'].mean()\n",
    "\n",
    "# Store illumination bins in a dataframe            \n",
    "den_summary_new = pd.DataFrame({'Average Crime': avg_crime})\n",
    "\n",
    "# Print new summary data frame\n",
    "den_summary_new"
   ]
  },
  {
   "cell_type": "code",
   "execution_count": 10,
   "metadata": {},
   "outputs": [
    {
     "data": {
      "image/png": "[encoded data removed]",
      "text/plain": [
       "<Figure size 720x288 with 1 Axes>"
      ]
     },
     "metadata": {
      "needs_background": "light"
     },
     "output_type": "display_data"
    }
   ],
   "source": [
    "# Use DataFrame.plot() in order to create a bar chart of the data\n",
    "den_summary_new.plot(kind=\"bar\", title='Denver, Colorado: Average Crime by Percent Illumination', figsize=(10,4), legend=False, color=\"green\", ylim=(150,200), rot=0)\n",
    "\n",
    "# Save plot\n",
    "plt.savefig(\"den_avgcrime_percillum.png\")\n",
    "\n",
    "# Show plot\n",
    "plt.show()"
   ]
  },
  {
   "cell_type": "code",
   "execution_count": 11,
   "metadata": {},
   "outputs": [
    {
     "data": {
      "text/html": [
       "<div>\n",
       "<style scoped>\n",
       "    .dataframe tbody tr th:only-of-type {\n",
       "        vertical-align: middle;\n",
       "    }\n",
       "\n",
       "    .dataframe tbody tr th {\n",
       "        vertical-align: top;\n",
       "    }\n",
       "\n",
       "    .dataframe thead th {\n",
       "        text-align: right;\n",
       "    }\n",
       "</style>\n",
       "<table border=\"1\" class=\"dataframe\">\n",
       "  <thead>\n",
       "    <tr style=\"text-align: right;\">\n",
       "      <th></th>\n",
       "      <th>Average Crime</th>\n",
       "    </tr>\n",
       "    <tr>\n",
       "      <th>% Illumination</th>\n",
       "      <th></th>\n",
       "    </tr>\n",
       "  </thead>\n",
       "  <tbody>\n",
       "    <tr>\n",
       "      <th>0-3%</th>\n",
       "      <td>190.625000</td>\n",
       "    </tr>\n",
       "    <tr>\n",
       "      <th>4-10%</th>\n",
       "      <td>188.978723</td>\n",
       "    </tr>\n",
       "    <tr>\n",
       "      <th>11-21%</th>\n",
       "      <td>185.000000</td>\n",
       "    </tr>\n",
       "    <tr>\n",
       "      <th>22-35%</th>\n",
       "      <td>179.834862</td>\n",
       "    </tr>\n",
       "    <tr>\n",
       "      <th>36-50%</th>\n",
       "      <td>184.333333</td>\n",
       "    </tr>\n",
       "  </tbody>\n",
       "</table>\n",
       "</div>"
      ],
      "text/plain": [
       "                Average Crime\n",
       "% Illumination               \n",
       "0-3%               190.625000\n",
       "4-10%              188.978723\n",
       "11-21%             185.000000\n",
       "22-35%             179.834862\n",
       "36-50%             184.333333"
      ]
     },
     "execution_count": 11,
     "metadata": {},
     "output_type": "execute_result"
    }
   ],
   "source": [
    "# Save summary data to csv\n",
    "den_summary_new.head()"
   ]
  },
  {
   "cell_type": "code",
   "execution_count": null,
   "metadata": {},
   "outputs": [],
   "source": [
    "den_daily_avg_crime = den_crime_total_rename['Total Crimes'].mean()\n",
    "den_daily_avg_crime"
   ]
  },
  {
   "cell_type": "code",
   "execution_count": 37,
   "metadata": {},
   "outputs": [],
   "source": [
    "full_moon_avg = den_summary_new.filter(like='97-100%', axis=0)"
   ]
  },
  {
   "cell_type": "code",
   "execution_count": 38,
   "metadata": {},
   "outputs": [
    {
     "data": {
      "text/plain": [
       "Average Crime    180.330275\n",
       "dtype: float64"
      ]
     },
     "execution_count": 38,
     "metadata": {},
     "output_type": "execute_result"
    }
   ],
   "source": [
    "full_moon_avg = den_summary_new.filter(like='97-100%', axis=0).mean()\n",
    "full_moon_avg"
   ]
  },
  {
   "cell_type": "code",
   "execution_count": 43,
   "metadata": {},
   "outputs": [
    {
     "name": "stderr",
     "output_type": "stream",
     "text": [
      "C:\\Users\\elampa\\AppData\\Local\\Continuum\\anaconda3\\lib\\site-packages\\numpy\\core\\fromnumeric.py:3157: RuntimeWarning: Degrees of freedom <= 0 for slice\n",
      "  **kwargs)\n",
      "C:\\Users\\elampa\\AppData\\Local\\Continuum\\anaconda3\\lib\\site-packages\\numpy\\core\\_methods.py:132: RuntimeWarning: invalid value encountered in double_scalars\n",
      "  ret = ret.dtype.type(ret / rcount)\n",
      "C:\\Users\\elampa\\AppData\\Local\\Continuum\\anaconda3\\lib\\site-packages\\scipy\\stats\\_distn_infrastructure.py:879: RuntimeWarning: invalid value encountered in greater\n",
      "  return (self.a < x) & (x < self.b)\n",
      "C:\\Users\\elampa\\AppData\\Local\\Continuum\\anaconda3\\lib\\site-packages\\scipy\\stats\\_distn_infrastructure.py:879: RuntimeWarning: invalid value encountered in less\n",
      "  return (self.a < x) & (x < self.b)\n",
      "C:\\Users\\elampa\\AppData\\Local\\Continuum\\anaconda3\\lib\\site-packages\\scipy\\stats\\_distn_infrastructure.py:1821: RuntimeWarning: invalid value encountered in less_equal\n",
      "  cond2 = cond0 & (x <= self.a)\n"
     ]
    },
    {
     "data": {
      "text/plain": [
       "Ttest_indResult(statistic=nan, pvalue=nan)"
      ]
     },
     "execution_count": 43,
     "metadata": {},
     "output_type": "execute_result"
    }
   ],
   "source": [
    "stats.ttest_ind(full_moon_avg, den_daily_avg_crime, axis=0)"
   ]
  },
  {
   "cell_type": "code",
   "execution_count": null,
   "metadata": {},
   "outputs": [],
   "source": []
  }
 ],
 "metadata": {
  "kernelspec": {
   "display_name": "'Python Interactive'",
   "language": "python",
   "name": "d83a8af1-695c-48be-bcdc-fdac87eb10ba"
  },
  "language_info": {
   "codemirror_mode": {
    "name": "ipython",
    "version": 3
   },
   "file_extension": ".py",
   "mimetype": "text/x-python",
   "name": "python",
   "nbconvert_exporter": "python",
   "pygments_lexer": "ipython3",
   "version": "3.7.0"
  }
 },
 "nbformat": 4,
 "nbformat_minor": 2
}
