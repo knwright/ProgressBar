{
 "cells": [
  {
   "cell_type": "markdown",
   "metadata": {},
   "source": [
    "# Merged Crime Data for All Cities"
   ]
  },
  {
   "cell_type": "markdown",
   "metadata": {},
   "source": [
    "## Summary\n",
    "### Individual City Statistics:\n",
    "1. **San Francisco:** \n",
    "    * Individual t-test: t-statistic = -0.34, pvalue = 0.73\n",
    "    * One-Way ANOVA: F value = 0.39, pvalue = 0.94\n",
    "2. **New York City:** \n",
    "    * Individual t-test: t-statistic = -1.80, pvalue = 0.074\n",
    "    * One-Way ANOVA: F value = 1.14, pvalue = 0.33\n",
    "3. **Minneapolis:** \n",
    "    * Individual t-test: t-statistic = 0.66, pvalue = 0.51\n",
    "    * One-Way ANOVA: F value = 0.20, pvalue = 0.99\n",
    "4. **Portland:** \n",
    "    * Individual t-test: t-statistic = -0.76, pvalue = 0.45\n",
    "    * One-Way ANOVA: F value = 0.34, pvalue = 0.96\n",
    "5. **Denver:**\n",
    "    * Individual t-test: t-statistic = -1.33, pvalue = 0.19\n",
    "    * One-Way ANOVA: F value = 1.13, pvalue = 0.34\n",
    "\n",
    "### Overall Crime During Moon Phase Statistics:\n",
    "- **Individual t-test:** t-statistic = -0.36, pvalue = 0.72\n",
    "- **One-Way ANOVA:** F value = 0.046, pvalue = 0.999"
   ]
  },
  {
   "cell_type": "code",
   "execution_count": 1,
   "metadata": {},
   "outputs": [],
   "source": [
    "# Import dependencies\n",
    "import numpy as np\n",
    "import pandas as pd\n",
    "from scipy import stats\n",
    "from matplotlib import pyplot as plt\n",
    "import datetime as dt\n",
    "import scipy.stats as stats"
   ]
  },
  {
   "cell_type": "code",
   "execution_count": 2,
   "metadata": {},
   "outputs": [
    {
     "data": {
      "text/html": [
       "<div>\n",
       "<style scoped>\n",
       "    .dataframe tbody tr th:only-of-type {\n",
       "        vertical-align: middle;\n",
       "    }\n",
       "\n",
       "    .dataframe tbody tr th {\n",
       "        vertical-align: top;\n",
       "    }\n",
       "\n",
       "    .dataframe thead th {\n",
       "        text-align: right;\n",
       "    }\n",
       "</style>\n",
       "<table border=\"1\" class=\"dataframe\">\n",
       "  <thead>\n",
       "    <tr style=\"text-align: right;\">\n",
       "      <th></th>\n",
       "      <th>Unnamed: 0</th>\n",
       "      <th>Date</th>\n",
       "      <th>Percent Illumination</th>\n",
       "      <th>Total Crimes</th>\n",
       "      <th>City</th>\n",
       "      <th>Full Date</th>\n",
       "      <th>% Illumination</th>\n",
       "    </tr>\n",
       "  </thead>\n",
       "  <tbody>\n",
       "    <tr>\n",
       "      <th>0</th>\n",
       "      <td>0</td>\n",
       "      <td>2015-01-01</td>\n",
       "      <td>84.0</td>\n",
       "      <td>296</td>\n",
       "      <td>Denver</td>\n",
       "      <td>NaN</td>\n",
       "      <td>NaN</td>\n",
       "    </tr>\n",
       "    <tr>\n",
       "      <th>1</th>\n",
       "      <td>1</td>\n",
       "      <td>2015-01-02</td>\n",
       "      <td>91.0</td>\n",
       "      <td>222</td>\n",
       "      <td>Denver</td>\n",
       "      <td>NaN</td>\n",
       "      <td>NaN</td>\n",
       "    </tr>\n",
       "    <tr>\n",
       "      <th>2</th>\n",
       "      <td>2</td>\n",
       "      <td>2015-01-03</td>\n",
       "      <td>96.0</td>\n",
       "      <td>186</td>\n",
       "      <td>Denver</td>\n",
       "      <td>NaN</td>\n",
       "      <td>NaN</td>\n",
       "    </tr>\n",
       "    <tr>\n",
       "      <th>3</th>\n",
       "      <td>3</td>\n",
       "      <td>2015-01-04</td>\n",
       "      <td>99.0</td>\n",
       "      <td>162</td>\n",
       "      <td>Denver</td>\n",
       "      <td>NaN</td>\n",
       "      <td>NaN</td>\n",
       "    </tr>\n",
       "    <tr>\n",
       "      <th>4</th>\n",
       "      <td>4</td>\n",
       "      <td>2015-01-05</td>\n",
       "      <td>100.0</td>\n",
       "      <td>234</td>\n",
       "      <td>Denver</td>\n",
       "      <td>NaN</td>\n",
       "      <td>NaN</td>\n",
       "    </tr>\n",
       "  </tbody>\n",
       "</table>\n",
       "</div>"
      ],
      "text/plain": [
       "   Unnamed: 0        Date  Percent Illumination  Total Crimes    City  \\\n",
       "0           0  2015-01-01                  84.0           296  Denver   \n",
       "1           1  2015-01-02                  91.0           222  Denver   \n",
       "2           2  2015-01-03                  96.0           186  Denver   \n",
       "3           3  2015-01-04                  99.0           162  Denver   \n",
       "4           4  2015-01-05                 100.0           234  Denver   \n",
       "\n",
       "  Full Date % Illumination  \n",
       "0       NaN            NaN  \n",
       "1       NaN            NaN  \n",
       "2       NaN            NaN  \n",
       "3       NaN            NaN  \n",
       "4       NaN            NaN  "
      ]
     },
     "execution_count": 2,
     "metadata": {},
     "output_type": "execute_result"
    }
   ],
   "source": [
    "# Concatenate csv files for each city into one data frame\n",
    "filepaths = ['csv_files/den_summary.csv', 'csv_files/mpls_summary.csv', 'csv_files/nyc_summary.csv', 'csv_files/portlanddata.csv', 'csv_files/sf_summary.csv']\n",
    "data_comp = pd.concat(map(pd.read_csv, filepaths), ignore_index=True, sort=False)\n",
    "\n",
    "data_comp.head()"
   ]
  },
  {
   "cell_type": "code",
   "execution_count": 3,
   "metadata": {},
   "outputs": [
    {
     "data": {
      "text/plain": [
       "Index(['Unnamed: 0', 'Date', 'Percent Illumination', 'Total Crimes', 'City',\n",
       "       'Full Date', '% Illumination'],\n",
       "      dtype='object')"
      ]
     },
     "execution_count": 3,
     "metadata": {},
     "output_type": "execute_result"
    }
   ],
   "source": [
    "# List of column names in dataframe\n",
    "data_comp.columns"
   ]
  },
  {
   "cell_type": "code",
   "execution_count": 4,
   "metadata": {},
   "outputs": [
    {
     "data": {
      "text/html": [
       "<div>\n",
       "<style scoped>\n",
       "    .dataframe tbody tr th:only-of-type {\n",
       "        vertical-align: middle;\n",
       "    }\n",
       "\n",
       "    .dataframe tbody tr th {\n",
       "        vertical-align: top;\n",
       "    }\n",
       "\n",
       "    .dataframe thead th {\n",
       "        text-align: right;\n",
       "    }\n",
       "</style>\n",
       "<table border=\"1\" class=\"dataframe\">\n",
       "  <thead>\n",
       "    <tr style=\"text-align: right;\">\n",
       "      <th></th>\n",
       "      <th>Date</th>\n",
       "      <th>Percent Illumination</th>\n",
       "      <th>Total Crimes</th>\n",
       "      <th>City</th>\n",
       "    </tr>\n",
       "  </thead>\n",
       "  <tbody>\n",
       "    <tr>\n",
       "      <th>0</th>\n",
       "      <td>2015-01-01</td>\n",
       "      <td>84.0</td>\n",
       "      <td>296</td>\n",
       "      <td>Denver</td>\n",
       "    </tr>\n",
       "    <tr>\n",
       "      <th>1</th>\n",
       "      <td>2015-01-02</td>\n",
       "      <td>91.0</td>\n",
       "      <td>222</td>\n",
       "      <td>Denver</td>\n",
       "    </tr>\n",
       "    <tr>\n",
       "      <th>2</th>\n",
       "      <td>2015-01-03</td>\n",
       "      <td>96.0</td>\n",
       "      <td>186</td>\n",
       "      <td>Denver</td>\n",
       "    </tr>\n",
       "    <tr>\n",
       "      <th>3</th>\n",
       "      <td>2015-01-04</td>\n",
       "      <td>99.0</td>\n",
       "      <td>162</td>\n",
       "      <td>Denver</td>\n",
       "    </tr>\n",
       "    <tr>\n",
       "      <th>4</th>\n",
       "      <td>2015-01-05</td>\n",
       "      <td>100.0</td>\n",
       "      <td>234</td>\n",
       "      <td>Denver</td>\n",
       "    </tr>\n",
       "  </tbody>\n",
       "</table>\n",
       "</div>"
      ],
      "text/plain": [
       "         Date  Percent Illumination  Total Crimes    City\n",
       "0  2015-01-01                  84.0           296  Denver\n",
       "1  2015-01-02                  91.0           222  Denver\n",
       "2  2015-01-03                  96.0           186  Denver\n",
       "3  2015-01-04                  99.0           162  Denver\n",
       "4  2015-01-05                 100.0           234  Denver"
      ]
     },
     "execution_count": 4,
     "metadata": {},
     "output_type": "execute_result"
    }
   ],
   "source": [
    "# Remove unwanted columns\n",
    "data_comp_clean = data_comp\n",
    "\n",
    "# Remove unwanted columns\n",
    "data_comp_clean.drop(labels=['Unnamed: 0', 'Full Date', '% Illumination'], axis=1, inplace=True)\n",
    "data_comp_clean.head()\n"
   ]
  },
  {
   "cell_type": "code",
   "execution_count": 5,
   "metadata": {},
   "outputs": [],
   "source": [
    "# Export to csv\n",
    "data_comp_clean.to_csv(\"csv_files/data_comp.csv\")"
   ]
  },
  {
   "cell_type": "code",
   "execution_count": 6,
   "metadata": {},
   "outputs": [
    {
     "data": {
      "image/png": "[encoded data removed]",
      "text/plain": [
       "<Figure size 432x288 with 1 Axes>"
      ]
     },
     "metadata": {
      "needs_background": "light"
     },
     "output_type": "display_data"
    }
   ],
   "source": [
    "# Obtain the x and y coordinates for each of the five cities\n",
    "sf = data_comp_clean.loc[(data_comp_clean[\"City\"] == \"San Francisco\")]\n",
    "pdx = data_comp_clean.loc[(data_comp_clean[\"City\"] == \"Portland\")]\n",
    "nyc = data_comp_clean.loc[(data_comp_clean[\"City\"] == \"NYC\")]\n",
    "den = data_comp_clean.loc[(data_comp_clean[\"City\"] == \"Denver\")]\n",
    "msp = data_comp_clean.loc[(data_comp_clean[\"City\"] == \"Minneapolis\")]\n",
    "\n",
    "# Build the scatter plots for each city:\n",
    "# Total Crime for San Francisco\n",
    "sf_crimes = sf['Total Crimes']\n",
    "\n",
    "# Total Crime for Portland\n",
    "pdx_crimes = pdx['Total Crimes']\n",
    "\n",
    "# Total Crime for New York City\n",
    "nyc_crimes = nyc['Total Crimes']\n",
    "\n",
    "# Total Crime for Denver\n",
    "den_crimes = den['Total Crimes']\n",
    "\n",
    "# Total Crime for Minneapolis\n",
    "msp_crimes = msp['Total Crimes']\n",
    "\n",
    "\n",
    "# Scatter plots for city types with \n",
    "plt.scatter(sf['Percent Illumination'], sf_crimes, marker ='o',\n",
    "            facecolors = \"magenta\", edgecolors='black', alpha = 0.9, linewidth = 1, label=\"SF\")\n",
    "\n",
    "plt.scatter(pdx['Percent Illumination'], pdx_crimes, marker ='o', \n",
    "            facecolors =\"yellow\", edgecolors='black', alpha = 0.9, linewidth = 1, label=\"PDX\")\n",
    "\n",
    "plt.scatter(nyc['Percent Illumination'], nyc_crimes, marker ='o', \n",
    "            facecolors =\"orange\", edgecolors='black', alpha = 0.9, linewidth = 1, label=\"NYC\")\n",
    "               \n",
    "plt.scatter(den['Percent Illumination'], den_crimes, marker ='o', \n",
    "            facecolors =\"green\", edgecolors='black', alpha = 0.9, linewidth = 1, label=\"DEN\")\n",
    "               \n",
    "plt.scatter(msp['Percent Illumination'], msp_crimes, marker ='o', \n",
    "            facecolors =\"blue\", edgecolors='black', alpha = 0.9, linewidth = 1, label=\"MSP\")\n",
    "\n",
    "# Incorporate the other graph properties: Title, x-label, y-label, and legend\n",
    "# Chart title\n",
    "plt.title(\"2015-2017 Crime Data\")\n",
    "\n",
    "# x label\n",
    "plt.xlabel(\"Percent Illumination\")\n",
    "\n",
    "# y label\n",
    "plt.ylabel(\"Average Crime\")\n",
    "\n",
    "# legend \n",
    "plt.legend(loc='upper right', title='Cities')\n",
    "\n",
    "# Save plot\n",
    "plt.savefig(\"images/all_cities_scatter.png\")\n",
    "\n",
    "# Show plot\n",
    "plt.show()"
   ]
  },
  {
   "cell_type": "code",
   "execution_count": 7,
   "metadata": {},
   "outputs": [
    {
     "data": {
      "text/html": [
       "<div>\n",
       "<style scoped>\n",
       "    .dataframe tbody tr th:only-of-type {\n",
       "        vertical-align: middle;\n",
       "    }\n",
       "\n",
       "    .dataframe tbody tr th {\n",
       "        vertical-align: top;\n",
       "    }\n",
       "\n",
       "    .dataframe thead th {\n",
       "        text-align: right;\n",
       "    }\n",
       "</style>\n",
       "<table border=\"1\" class=\"dataframe\">\n",
       "  <thead>\n",
       "    <tr style=\"text-align: right;\">\n",
       "      <th></th>\n",
       "      <th>Average Crime</th>\n",
       "    </tr>\n",
       "    <tr>\n",
       "      <th>Percent Illumination</th>\n",
       "      <th></th>\n",
       "    </tr>\n",
       "  </thead>\n",
       "  <tbody>\n",
       "    <tr>\n",
       "      <th>0-3</th>\n",
       "      <td>437.534375</td>\n",
       "    </tr>\n",
       "    <tr>\n",
       "      <th>4-10</th>\n",
       "      <td>436.640426</td>\n",
       "    </tr>\n",
       "    <tr>\n",
       "      <th>11-21</th>\n",
       "      <td>431.261682</td>\n",
       "    </tr>\n",
       "    <tr>\n",
       "      <th>22-35</th>\n",
       "      <td>431.433028</td>\n",
       "    </tr>\n",
       "    <tr>\n",
       "      <th>36-50</th>\n",
       "      <td>432.131624</td>\n",
       "    </tr>\n",
       "    <tr>\n",
       "      <th>51-65</th>\n",
       "      <td>433.676636</td>\n",
       "    </tr>\n",
       "    <tr>\n",
       "      <th>66-78</th>\n",
       "      <td>429.864151</td>\n",
       "    </tr>\n",
       "    <tr>\n",
       "      <th>79-89</th>\n",
       "      <td>434.299099</td>\n",
       "    </tr>\n",
       "    <tr>\n",
       "      <th>90-96</th>\n",
       "      <td>425.937037</td>\n",
       "    </tr>\n",
       "    <tr>\n",
       "      <th>97-100</th>\n",
       "      <td>424.954128</td>\n",
       "    </tr>\n",
       "  </tbody>\n",
       "</table>\n",
       "</div>"
      ],
      "text/plain": [
       "                      Average Crime\n",
       "Percent Illumination               \n",
       "0-3                      437.534375\n",
       "4-10                     436.640426\n",
       "11-21                    431.261682\n",
       "22-35                    431.433028\n",
       "36-50                    432.131624\n",
       "51-65                    433.676636\n",
       "66-78                    429.864151\n",
       "79-89                    434.299099\n",
       "90-96                    425.937037\n",
       "97-100                   424.954128"
      ]
     },
     "execution_count": 7,
     "metadata": {},
     "output_type": "execute_result"
    }
   ],
   "source": [
    "# Create percent illumination bins\n",
    "bins = [0, 3, 10, 21.5, 35.5, 51, 66, 79, 90, 97, 100]\n",
    "group_name = ['0-3', '4-10', '11-21', \n",
    "              '22-35', '36-50', '51-65', \n",
    "              '66-78', '79-89', '90-96', '97-100']\n",
    "\n",
    "data_comp_clean['Percent Illumination'] = pd.cut(data_comp_clean['Percent Illumination'], \n",
    "                                      bins, \n",
    "                                      labels = group_name, \n",
    "                                      include_lowest=True)\n",
    "\n",
    "#Group the merged data by percent illumination\n",
    "by_illumination = data_comp_clean.groupby('Percent Illumination')\n",
    "\n",
    "# Calculate average crime\n",
    "avg_crime = by_illumination['Total Crimes'].mean()\n",
    "\n",
    "# Store illumination bins in a dataframe            \n",
    "df_summary_new = pd.DataFrame({'Average Crime': avg_crime})\n",
    "\n",
    "# Print new summary data frame\n",
    "df_summary_new"
   ]
  },
  {
   "cell_type": "code",
   "execution_count": 8,
   "metadata": {},
   "outputs": [
    {
     "data": {
      "text/html": [
       "<div>\n",
       "<style scoped>\n",
       "    .dataframe tbody tr th:only-of-type {\n",
       "        vertical-align: middle;\n",
       "    }\n",
       "\n",
       "    .dataframe tbody tr th {\n",
       "        vertical-align: top;\n",
       "    }\n",
       "\n",
       "    .dataframe thead th {\n",
       "        text-align: right;\n",
       "    }\n",
       "</style>\n",
       "<table border=\"1\" class=\"dataframe\">\n",
       "  <thead>\n",
       "    <tr style=\"text-align: right;\">\n",
       "      <th></th>\n",
       "      <th>Date</th>\n",
       "      <th>Percent Illumination</th>\n",
       "      <th>Total Crimes</th>\n",
       "      <th>City</th>\n",
       "    </tr>\n",
       "  </thead>\n",
       "  <tbody>\n",
       "    <tr>\n",
       "      <th>0</th>\n",
       "      <td>2015-01-01</td>\n",
       "      <td>79-89</td>\n",
       "      <td>296</td>\n",
       "      <td>Denver</td>\n",
       "    </tr>\n",
       "    <tr>\n",
       "      <th>1</th>\n",
       "      <td>2015-01-02</td>\n",
       "      <td>90-96</td>\n",
       "      <td>222</td>\n",
       "      <td>Denver</td>\n",
       "    </tr>\n",
       "    <tr>\n",
       "      <th>2</th>\n",
       "      <td>2015-01-03</td>\n",
       "      <td>90-96</td>\n",
       "      <td>186</td>\n",
       "      <td>Denver</td>\n",
       "    </tr>\n",
       "    <tr>\n",
       "      <th>3</th>\n",
       "      <td>2015-01-04</td>\n",
       "      <td>97-100</td>\n",
       "      <td>162</td>\n",
       "      <td>Denver</td>\n",
       "    </tr>\n",
       "    <tr>\n",
       "      <th>4</th>\n",
       "      <td>2015-01-05</td>\n",
       "      <td>97-100</td>\n",
       "      <td>234</td>\n",
       "      <td>Denver</td>\n",
       "    </tr>\n",
       "  </tbody>\n",
       "</table>\n",
       "</div>"
      ],
      "text/plain": [
       "         Date Percent Illumination  Total Crimes    City\n",
       "0  2015-01-01                79-89           296  Denver\n",
       "1  2015-01-02                90-96           222  Denver\n",
       "2  2015-01-03                90-96           186  Denver\n",
       "3  2015-01-04               97-100           162  Denver\n",
       "4  2015-01-05               97-100           234  Denver"
      ]
     },
     "execution_count": 8,
     "metadata": {},
     "output_type": "execute_result"
    }
   ],
   "source": [
    "# Check formatting of summary table\n",
    "data_comp_clean.head()"
   ]
  },
  {
   "cell_type": "code",
   "execution_count": 9,
   "metadata": {},
   "outputs": [
    {
     "data": {
      "image/png": "[encoded data removed]",
      "text/plain": [
       "<Figure size 1440x216 with 1 Axes>"
      ]
     },
     "metadata": {
      "needs_background": "light"
     },
     "output_type": "display_data"
    }
   ],
   "source": [
    "# Use DataFrame.plot() in order to create a bar chart of the data\n",
    "df_summary_new.plot(kind=\"bar\", figsize=(20,3), title='Average Crime by Percent Illumination', legend=False, \n",
    "                    ylim=(420,440), rot=0, colormap = 'Accent')\n",
    "\n",
    "# Save plot\n",
    "plt.savefig(\"images/avg_crime_bar.png\")\n",
    "\n",
    "# Show plot\n",
    "plt.show()"
   ]
  },
  {
   "cell_type": "code",
   "execution_count": 10,
   "metadata": {},
   "outputs": [
    {
     "name": "stdout",
     "output_type": "stream",
     "text": [
      "431.8217153284672\n"
     ]
    }
   ],
   "source": [
    "# Calculate average crime for each day\n",
    "daily_avg_crime = data_comp_clean['Total Crimes'].mean()\n",
    "print(daily_avg_crime)"
   ]
  },
  {
   "cell_type": "code",
   "execution_count": 11,
   "metadata": {},
   "outputs": [
    {
     "data": {
      "text/html": [
       "<div>\n",
       "<style scoped>\n",
       "    .dataframe tbody tr th:only-of-type {\n",
       "        vertical-align: middle;\n",
       "    }\n",
       "\n",
       "    .dataframe tbody tr th {\n",
       "        vertical-align: top;\n",
       "    }\n",
       "\n",
       "    .dataframe thead th {\n",
       "        text-align: right;\n",
       "    }\n",
       "</style>\n",
       "<table border=\"1\" class=\"dataframe\">\n",
       "  <thead>\n",
       "    <tr style=\"text-align: right;\">\n",
       "      <th></th>\n",
       "      <th>Date</th>\n",
       "      <th>Percent Illumination</th>\n",
       "      <th>Total Crimes</th>\n",
       "      <th>City</th>\n",
       "    </tr>\n",
       "  </thead>\n",
       "  <tbody>\n",
       "    <tr>\n",
       "      <th>3</th>\n",
       "      <td>2015-01-04</td>\n",
       "      <td>97-100</td>\n",
       "      <td>162</td>\n",
       "      <td>Denver</td>\n",
       "    </tr>\n",
       "    <tr>\n",
       "      <th>4</th>\n",
       "      <td>2015-01-05</td>\n",
       "      <td>97-100</td>\n",
       "      <td>234</td>\n",
       "      <td>Denver</td>\n",
       "    </tr>\n",
       "    <tr>\n",
       "      <th>5</th>\n",
       "      <td>2015-01-06</td>\n",
       "      <td>97-100</td>\n",
       "      <td>232</td>\n",
       "      <td>Denver</td>\n",
       "    </tr>\n",
       "    <tr>\n",
       "      <th>33</th>\n",
       "      <td>2015-02-03</td>\n",
       "      <td>97-100</td>\n",
       "      <td>248</td>\n",
       "      <td>Denver</td>\n",
       "    </tr>\n",
       "    <tr>\n",
       "      <th>34</th>\n",
       "      <td>2015-02-04</td>\n",
       "      <td>97-100</td>\n",
       "      <td>240</td>\n",
       "      <td>Denver</td>\n",
       "    </tr>\n",
       "  </tbody>\n",
       "</table>\n",
       "</div>"
      ],
      "text/plain": [
       "          Date Percent Illumination  Total Crimes    City\n",
       "3   2015-01-04               97-100           162  Denver\n",
       "4   2015-01-05               97-100           234  Denver\n",
       "5   2015-01-06               97-100           232  Denver\n",
       "33  2015-02-03               97-100           248  Denver\n",
       "34  2015-02-04               97-100           240  Denver"
      ]
     },
     "execution_count": 11,
     "metadata": {},
     "output_type": "execute_result"
    }
   ],
   "source": [
    "# Sort the total crimes by day by full moon days only\n",
    "full_moon = data_comp_clean.loc[data_comp_clean['Percent Illumination'] == '97-100', :]\n",
    "\n",
    "full_moon.head()"
   ]
  },
  {
   "cell_type": "code",
   "execution_count": 12,
   "metadata": {},
   "outputs": [
    {
     "data": {
      "text/plain": [
       "Ttest_1sampResult(statistic=-0.36052899981803965, pvalue=0.7185915187025718)"
      ]
     },
     "execution_count": 12,
     "metadata": {},
     "output_type": "execute_result"
    }
   ],
   "source": [
    "# Perform t-test to determine rejection or acceptance of null hypothesis\n",
    "stats.ttest_1samp(full_moon['Total Crimes'], daily_avg_crime)"
   ]
  },
  {
   "cell_type": "code",
   "execution_count": 13,
   "metadata": {},
   "outputs": [
    {
     "data": {
      "image/png": "[encoded data removed]",
      "text/plain": [
       "<Figure size 720x360 with 1 Axes>"
      ]
     },
     "metadata": {
      "needs_background": "light"
     },
     "output_type": "display_data"
    }
   ],
   "source": [
    "# Create a boxplot to compare means\n",
    "data_comp_clean.boxplot(\"Total Crimes\", by=\"Percent Illumination\", figsize=(10, 5))\n",
    "\n",
    "# Save plot\n",
    "plt.savefig(\"images/totalcrime_box.png\")"
   ]
  },
  {
   "cell_type": "code",
   "execution_count": 14,
   "metadata": {},
   "outputs": [
    {
     "data": {
      "text/plain": [
       "F_onewayResult(statistic=0.04561715621741917, pvalue=0.9999869659412618)"
      ]
     },
     "execution_count": 14,
     "metadata": {},
     "output_type": "execute_result"
    }
   ],
   "source": [
    "# Extract individual groups for ANOVA\n",
    "group1 = data_comp_clean[data_comp_clean[\"Percent Illumination\"] == \"0-3\"][\"Total Crimes\"]\n",
    "group2 = data_comp_clean[data_comp_clean[\"Percent Illumination\"] == \"4-10\"][\"Total Crimes\"]\n",
    "group3 = data_comp_clean[data_comp_clean[\"Percent Illumination\"] == \"11-21\"][\"Total Crimes\"]\n",
    "group4 = data_comp_clean[data_comp_clean[\"Percent Illumination\"] == \"22-35\"][\"Total Crimes\"]\n",
    "group5 = data_comp_clean[data_comp_clean[\"Percent Illumination\"] == \"36-50\"][\"Total Crimes\"]\n",
    "group6 = data_comp_clean[data_comp_clean[\"Percent Illumination\"] == \"51-65\"][\"Total Crimes\"]\n",
    "group7 = data_comp_clean[data_comp_clean[\"Percent Illumination\"] == \"66-78\"][\"Total Crimes\"]\n",
    "group8 = data_comp_clean[data_comp_clean[\"Percent Illumination\"] == \"79-89\"][\"Total Crimes\"]\n",
    "group9 = data_comp_clean[data_comp_clean[\"Percent Illumination\"] == \"90-96\"][\"Total Crimes\"]\n",
    "group10 = data_comp_clean[data_comp_clean[\"Percent Illumination\"] == \"97-100\"][\"Total Crimes\"]\n",
    "\n",
    "# One way ANOVA test\n",
    "stats.f_oneway(group1, group2, group3, group4, group5, group6, group7, group8, group9, group10)"
   ]
  },
  {
   "cell_type": "markdown",
   "metadata": {},
   "source": [
    "# **The End**"
   ]
  }
 ],
 "metadata": {
  "kernelspec": {
   "display_name": "Python 3",
   "language": "python",
   "name": "python3"
  },
  "language_info": {
   "codemirror_mode": {
    "name": "ipython",
    "version": 3
   },
   "file_extension": ".py",
   "mimetype": "text/x-python",
   "name": "python",
   "nbconvert_exporter": "python",
   "pygments_lexer": "ipython3",
   "version": "3.7.1"
  }
 },
 "nbformat": 4,
 "nbformat_minor": 2
}
